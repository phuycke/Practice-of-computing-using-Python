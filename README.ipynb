{
 "cells": [
  {
   "cell_type": "markdown",
   "metadata": {},
   "source": [
    "# The practice of computing using Python 3\n",
    "\n",
    "[![GitHub license](https://img.shields.io/apm/l/test.svg)](https://github.com/phuycke/Practice-of-computing-using-Python/blob/master/LICENSE)\n",
    "[![Commits](https://img.shields.io/github/last-commit/phuycke/Practice-of-computing-using-Python)](https://img.shields.io/github/last-commit/phuycke/Practice-of-computing-using-Python)\n",
    "[![Issues](https://img.shields.io/github/issues/phuycke/Practice-of-computing-using-Python)](https://img.shields.io/github/issues/phuycke/Practice-of-computing-using-Python)"
   ]
  },
  {
   "cell_type": "markdown",
   "metadata": {},
   "source": [
    "## Contact\n",
    "\n",
    "Pieter Huycke\n",
    "\n",
    "[Labsite]: https://cogcomneurosci.com/\n",
    "\n",
    "---\n",
    "\n",
    "[Ghent University][UGent]   \n",
    "[Faculty of Psychology and Educational Sciences][Faculty]  \n",
    "[Department of Experimental Psychology][Department]  \n",
    "\n",
    "[UGent]:      https://www.ugent.be/en\n",
    "[Faculty]:    https://www.ugent.be/pp/en\n",
    "[Department]: https://www.ugent.be/pp/experimentele-psychologie/en/research\n",
    "\n",
    "Henri Dunantlaan 2  \n",
    "B-9000 Gent"
   ]
  },
  {
   "cell_type": "markdown",
   "metadata": {},
   "source": [
    "**Last edit: 06-08-2019**"
   ]
  }
 ],
 "metadata": {
  "kernelspec": {
   "display_name": "Python 3",
   "language": "python",
   "name": "python3"
  },
  "language_info": {
   "codemirror_mode": {
    "name": "ipython",
    "version": 3
   },
   "file_extension": ".py",
   "mimetype": "text/x-python",
   "name": "python",
   "nbconvert_exporter": "python",
   "pygments_lexer": "ipython3",
   "version": "3.7.3"
  }
 },
 "nbformat": 4,
 "nbformat_minor": 2
}
